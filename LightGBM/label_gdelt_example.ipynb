{
 "cells": [
  {
   "cell_type": "code",
   "execution_count": 1,
   "id": "6fb41a4f",
   "metadata": {},
   "outputs": [
    {
     "name": "stderr",
     "output_type": "stream",
     "text": [
      "[nltk_data] Downloading package stopwords to\n",
      "[nltk_data]     /home/cssuing/nltk_data...\n",
      "[nltk_data]   Package stopwords is already up-to-date!\n"
     ]
    }
   ],
   "source": [
    "# from bcb_functions import LightGBM_Classifier\n",
    "import sys  \n",
    "sys.path.insert(0, '')\n",
    "import bcb_functions"
   ]
  },
  {
   "cell_type": "markdown",
   "id": "a44a25ad",
   "metadata": {},
   "source": [
    "# Change the label_data argument to your GDELT data file"
   ]
  },
  {
   "cell_type": "code",
   "execution_count": 2,
   "id": "753f15bb",
   "metadata": {},
   "outputs": [],
   "source": [
    "lightgbm_model = bcb_functions.LightGBM_Classifier(label_data=\"Sierra_Leone_top_companies_wurls.csv\")"
   ]
  },
  {
   "cell_type": "code",
   "execution_count": 3,
   "id": "a1993a7b",
   "metadata": {},
   "outputs": [
    {
     "name": "stderr",
     "output_type": "stream",
     "text": [
      "/home/cssuing/anaconda3/lib/python3.8/site-packages/pandas/core/frame.py:3607: SettingWithCopyWarning: \n",
      "A value is trying to be set on a copy of a slice from a DataFrame.\n",
      "Try using .loc[row_indexer,col_indexer] = value instead\n",
      "\n",
      "See the caveats in the documentation: https://pandas.pydata.org/pandas-docs/stable/user_guide/indexing.html#returning-a-view-versus-a-copy\n",
      "  self._set_item(key, value)\n"
     ]
    }
   ],
   "source": [
    "lightgbm_model.clean_gdelt()\n",
    "lightgbm_model.label_gdelt()"
   ]
  },
  {
   "cell_type": "markdown",
   "id": "81738e24",
   "metadata": {},
   "source": [
    "This function will output 2 files, one labeled according to GDELT URL text, one according to Themes"
   ]
  },
  {
   "cell_type": "code",
   "execution_count": null,
   "id": "b0b0b044",
   "metadata": {},
   "outputs": [],
   "source": []
  }
 ],
 "metadata": {
  "kernelspec": {
   "display_name": "Python 3",
   "language": "python",
   "name": "python3"
  },
  "language_info": {
   "codemirror_mode": {
    "name": "ipython",
    "version": 3
   },
   "file_extension": ".py",
   "mimetype": "text/x-python",
   "name": "python",
   "nbconvert_exporter": "python",
   "pygments_lexer": "ipython3",
   "version": "3.8.8"
  }
 },
 "nbformat": 4,
 "nbformat_minor": 5
}
