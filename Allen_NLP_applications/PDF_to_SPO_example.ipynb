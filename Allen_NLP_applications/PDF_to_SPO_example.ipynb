{
 "cells": [
  {
   "cell_type": "markdown",
   "metadata": {
    "id": "1TboLewuJ9-J"
   },
   "source": [
    "# Apply SPO Pilot Code written by SI 370 students and generate a csv file with SPO tags from a PDF link"
   ]
  },
  {
   "cell_type": "markdown",
   "metadata": {
    "id": "I0GhCHXOKQ1-"
   },
   "source": [
    "Install Allen NLP and other libraries needed in the bcb_functions.py"
   ]
  },
  {
   "cell_type": "markdown",
   "metadata": {},
   "source": [
    "Remember to switch to the virtual environment before running the codes"
   ]
  },
  {
   "cell_type": "markdown",
   "metadata": {
    "id": "6fjFSHY0hw0R"
   },
   "source": [
    "Transform PDF text into SPO triples"
   ]
  },
  {
   "cell_type": "code",
   "execution_count": 1,
   "metadata": {},
   "outputs": [
    {
     "name": "stderr",
     "output_type": "stream",
     "text": [
      "[nltk_data] Downloading package punkt to /home/cssuing/nltk_data...\n",
      "[nltk_data]   Package punkt is already up-to-date!\n"
     ]
    }
   ],
   "source": [
    "# from bcb_functions import Semantic_Role_Labeling\n",
    "import sys  \n",
    "sys.path.insert(0, '../')\n",
    "import bcb_functions"
   ]
  },
  {
   "cell_type": "markdown",
   "metadata": {},
   "source": [
    "# change the folder of PDFs to whatever you want"
   ]
  },
  {
   "cell_type": "code",
   "execution_count": 2,
   "metadata": {},
   "outputs": [],
   "source": [
    "pdf_folder = \"../test_data\""
   ]
  },
  {
   "cell_type": "code",
   "execution_count": 3,
   "metadata": {},
   "outputs": [],
   "source": [
    "file_names = bcb_functions.extract_file_names(pdf_folder)"
   ]
  },
  {
   "cell_type": "code",
   "execution_count": 5,
   "metadata": {
    "scrolled": false
   },
   "outputs": [
    {
     "name": "stderr",
     "output_type": "stream",
     "text": [
      "2021-08-03 15:05:34,472 - INFO - allennlp.common.plugins - Plugin allennlp_models available\n",
      "2021-08-03 15:05:34,609 - INFO - allennlp.common.file_utils - cache of https://storage.googleapis.com/allennlp-public-models/openie-model.2020.03.26.tar.gz is up-to-date\n",
      "2021-08-03 15:05:34,610 - INFO - allennlp.models.archival - loading archive file https://storage.googleapis.com/allennlp-public-models/openie-model.2020.03.26.tar.gz from cache at /home/cssuing/.allennlp/cache/60314a853eb0aaa774d176d878c62469d49872feb4f2bfd071a75c77f6d76707.1b91cc27e347f2df04ce771a304bee2b70a2c487626b67e277d44c593b868c25\n",
      "2021-08-03 15:05:34,610 - INFO - allennlp.models.archival - extracting archive file /home/cssuing/.allennlp/cache/60314a853eb0aaa774d176d878c62469d49872feb4f2bfd071a75c77f6d76707.1b91cc27e347f2df04ce771a304bee2b70a2c487626b67e277d44c593b868c25 to temp dir /tmp/tmpx5cz5g4h\n",
      "2021-08-03 15:05:35,112 - INFO - allennlp.common.params - dataset_reader.type = srl\n",
      "2021-08-03 15:05:35,113 - INFO - allennlp.common.params - dataset_reader.max_instances = None\n",
      "2021-08-03 15:05:35,113 - INFO - allennlp.common.params - dataset_reader.manual_distributed_sharding = False\n",
      "2021-08-03 15:05:35,114 - INFO - allennlp.common.params - dataset_reader.manual_multiprocess_sharding = False\n",
      "2021-08-03 15:05:35,114 - INFO - allennlp.common.params - dataset_reader.token_indexers = None\n",
      "2021-08-03 15:05:35,114 - INFO - allennlp.common.params - dataset_reader.domain_identifier = None\n",
      "2021-08-03 15:05:35,115 - INFO - allennlp.common.params - dataset_reader.bert_model_name = None\n",
      "2021-08-03 15:05:35,115 - INFO - allennlp.common.params - dataset_reader.type = srl\n",
      "2021-08-03 15:05:35,116 - INFO - allennlp.common.params - dataset_reader.max_instances = None\n",
      "2021-08-03 15:05:35,116 - INFO - allennlp.common.params - dataset_reader.manual_distributed_sharding = False\n",
      "2021-08-03 15:05:35,116 - INFO - allennlp.common.params - dataset_reader.manual_multiprocess_sharding = False\n",
      "2021-08-03 15:05:35,117 - INFO - allennlp.common.params - dataset_reader.token_indexers = None\n",
      "2021-08-03 15:05:35,117 - INFO - allennlp.common.params - dataset_reader.domain_identifier = None\n",
      "2021-08-03 15:05:35,117 - INFO - allennlp.common.params - dataset_reader.bert_model_name = None\n",
      "2021-08-03 15:05:35,118 - INFO - allennlp.common.params - type = from_instances\n",
      "2021-08-03 15:05:35,118 - INFO - allennlp.data.vocabulary - Loading token dictionary from /tmp/tmpx5cz5g4h/vocabulary.\n",
      "2021-08-03 15:05:35,172 - INFO - allennlp.common.params - model.type = srl\n",
      "2021-08-03 15:05:35,173 - INFO - allennlp.common.params - model.regularizer = None\n",
      "2021-08-03 15:05:35,173 - INFO - allennlp.common.params - model.text_field_embedder.type = basic\n",
      "2021-08-03 15:05:35,174 - INFO - allennlp.common.params - model.text_field_embedder.token_embedders.tokens.type = embedding\n",
      "2021-08-03 15:05:35,175 - INFO - allennlp.common.params - model.text_field_embedder.token_embedders.tokens.embedding_dim = 100\n",
      "2021-08-03 15:05:35,175 - INFO - allennlp.common.params - model.text_field_embedder.token_embedders.tokens.num_embeddings = None\n",
      "2021-08-03 15:05:35,175 - INFO - allennlp.common.params - model.text_field_embedder.token_embedders.tokens.projection_dim = None\n",
      "2021-08-03 15:05:35,176 - INFO - allennlp.common.params - model.text_field_embedder.token_embedders.tokens.weight = None\n",
      "2021-08-03 15:05:35,176 - INFO - allennlp.common.params - model.text_field_embedder.token_embedders.tokens.padding_index = None\n",
      "2021-08-03 15:05:35,176 - INFO - allennlp.common.params - model.text_field_embedder.token_embedders.tokens.trainable = True\n",
      "2021-08-03 15:05:35,177 - INFO - allennlp.common.params - model.text_field_embedder.token_embedders.tokens.max_norm = None\n",
      "2021-08-03 15:05:35,177 - INFO - allennlp.common.params - model.text_field_embedder.token_embedders.tokens.norm_type = 2.0\n",
      "2021-08-03 15:05:35,177 - INFO - allennlp.common.params - model.text_field_embedder.token_embedders.tokens.scale_grad_by_freq = False\n",
      "2021-08-03 15:05:35,178 - INFO - allennlp.common.params - model.text_field_embedder.token_embedders.tokens.sparse = False\n",
      "2021-08-03 15:05:35,178 - INFO - allennlp.common.params - model.text_field_embedder.token_embedders.tokens.vocab_namespace = tokens\n",
      "2021-08-03 15:05:35,179 - INFO - allennlp.common.params - model.text_field_embedder.token_embedders.tokens.pretrained_file = None\n",
      "2021-08-03 15:05:35,224 - INFO - allennlp.common.params - model.encoder.type = alternating_lstm\n",
      "2021-08-03 15:05:35,225 - INFO - allennlp.common.params - model.encoder.input_size = 200\n",
      "2021-08-03 15:05:35,225 - INFO - allennlp.common.params - model.encoder.hidden_size = 300\n",
      "2021-08-03 15:05:35,226 - INFO - allennlp.common.params - model.encoder.num_layers = 8\n",
      "2021-08-03 15:05:35,226 - INFO - allennlp.common.params - model.encoder.recurrent_dropout_probability = 0.1\n",
      "2021-08-03 15:05:35,226 - INFO - allennlp.common.params - model.encoder.use_highway = True\n",
      "2021-08-03 15:05:35,227 - INFO - allennlp.common.params - model.encoder.use_input_projection_bias = True\n",
      "2021-08-03 15:05:35,227 - INFO - allennlp.common.params - model.encoder.stateful = False\n",
      "2021-08-03 15:05:35,472 - INFO - allennlp.common.params - model.binary_feature_dim = 100\n",
      "2021-08-03 15:05:35,473 - INFO - allennlp.common.params - model.embedding_dropout = 0.0\n",
      "2021-08-03 15:05:35,473 - INFO - allennlp.common.params - model.initializer = <allennlp.nn.initializers.InitializerApplicator object at 0x7f2c324d7460>\n",
      "2021-08-03 15:05:35,474 - INFO - allennlp.common.params - model.label_smoothing = None\n",
      "2021-08-03 15:05:35,474 - INFO - allennlp.common.params - model.ignore_span_metric = False\n",
      "2021-08-03 15:05:35,475 - INFO - allennlp.common.params - model.srl_eval_path = /home/cssuing/giep_nlp/lib/python3.8/site-packages/allennlp_models/structured_prediction/tools/srl-eval.pl\n",
      "2021-08-03 15:05:35,476 - INFO - allennlp.nn.initializers - Initializing parameters\n",
      "2021-08-03 15:05:35,477 - INFO - allennlp.nn.initializers - Done initializing parameters; the following parameters are using their default initialization from their code\n",
      "2021-08-03 15:05:35,477 - INFO - allennlp.nn.initializers -    binary_feature_embedding.weight\n",
      "2021-08-03 15:05:35,477 - INFO - allennlp.nn.initializers -    encoder._module.layer_0.cell.input_linearity.bias\n",
      "2021-08-03 15:05:35,478 - INFO - allennlp.nn.initializers -    encoder._module.layer_0.cell.input_linearity.weight\n",
      "2021-08-03 15:05:35,478 - INFO - allennlp.nn.initializers -    encoder._module.layer_0.cell.state_linearity.bias\n",
      "2021-08-03 15:05:35,479 - INFO - allennlp.nn.initializers -    encoder._module.layer_0.cell.state_linearity.weight\n",
      "2021-08-03 15:05:35,479 - INFO - allennlp.nn.initializers -    encoder._module.layer_1.cell.input_linearity.bias\n",
      "2021-08-03 15:05:35,479 - INFO - allennlp.nn.initializers -    encoder._module.layer_1.cell.input_linearity.weight\n",
      "2021-08-03 15:05:35,480 - INFO - allennlp.nn.initializers -    encoder._module.layer_1.cell.state_linearity.bias\n",
      "2021-08-03 15:05:35,480 - INFO - allennlp.nn.initializers -    encoder._module.layer_1.cell.state_linearity.weight\n",
      "2021-08-03 15:05:35,480 - INFO - allennlp.nn.initializers -    encoder._module.layer_2.cell.input_linearity.bias\n",
      "2021-08-03 15:05:35,481 - INFO - allennlp.nn.initializers -    encoder._module.layer_2.cell.input_linearity.weight\n",
      "2021-08-03 15:05:35,481 - INFO - allennlp.nn.initializers -    encoder._module.layer_2.cell.state_linearity.bias\n",
      "2021-08-03 15:05:35,481 - INFO - allennlp.nn.initializers -    encoder._module.layer_2.cell.state_linearity.weight\n",
      "2021-08-03 15:05:35,482 - INFO - allennlp.nn.initializers -    encoder._module.layer_3.cell.input_linearity.bias\n",
      "2021-08-03 15:05:35,482 - INFO - allennlp.nn.initializers -    encoder._module.layer_3.cell.input_linearity.weight\n",
      "2021-08-03 15:05:35,482 - INFO - allennlp.nn.initializers -    encoder._module.layer_3.cell.state_linearity.bias\n",
      "2021-08-03 15:05:35,482 - INFO - allennlp.nn.initializers -    encoder._module.layer_3.cell.state_linearity.weight\n",
      "2021-08-03 15:05:35,484 - INFO - allennlp.nn.initializers -    encoder._module.layer_4.cell.input_linearity.bias\n",
      "2021-08-03 15:05:35,484 - INFO - allennlp.nn.initializers -    encoder._module.layer_4.cell.input_linearity.weight\n"
     ]
    },
    {
     "name": "stderr",
     "output_type": "stream",
     "text": [
      "2021-08-03 15:05:35,485 - INFO - allennlp.nn.initializers -    encoder._module.layer_4.cell.state_linearity.bias\n",
      "2021-08-03 15:05:35,485 - INFO - allennlp.nn.initializers -    encoder._module.layer_4.cell.state_linearity.weight\n",
      "2021-08-03 15:05:35,485 - INFO - allennlp.nn.initializers -    encoder._module.layer_5.cell.input_linearity.bias\n",
      "2021-08-03 15:05:35,486 - INFO - allennlp.nn.initializers -    encoder._module.layer_5.cell.input_linearity.weight\n",
      "2021-08-03 15:05:35,486 - INFO - allennlp.nn.initializers -    encoder._module.layer_5.cell.state_linearity.bias\n",
      "2021-08-03 15:05:35,486 - INFO - allennlp.nn.initializers -    encoder._module.layer_5.cell.state_linearity.weight\n",
      "2021-08-03 15:05:35,487 - INFO - allennlp.nn.initializers -    encoder._module.layer_6.cell.input_linearity.bias\n",
      "2021-08-03 15:05:35,487 - INFO - allennlp.nn.initializers -    encoder._module.layer_6.cell.input_linearity.weight\n",
      "2021-08-03 15:05:35,487 - INFO - allennlp.nn.initializers -    encoder._module.layer_6.cell.state_linearity.bias\n",
      "2021-08-03 15:05:35,488 - INFO - allennlp.nn.initializers -    encoder._module.layer_6.cell.state_linearity.weight\n",
      "2021-08-03 15:05:35,488 - INFO - allennlp.nn.initializers -    encoder._module.layer_7.cell.input_linearity.bias\n",
      "2021-08-03 15:05:35,488 - INFO - allennlp.nn.initializers -    encoder._module.layer_7.cell.input_linearity.weight\n",
      "2021-08-03 15:05:35,489 - INFO - allennlp.nn.initializers -    encoder._module.layer_7.cell.state_linearity.bias\n",
      "2021-08-03 15:05:35,489 - INFO - allennlp.nn.initializers -    encoder._module.layer_7.cell.state_linearity.weight\n",
      "2021-08-03 15:05:35,489 - INFO - allennlp.nn.initializers -    tag_projection_layer._module.bias\n",
      "2021-08-03 15:05:35,490 - INFO - allennlp.nn.initializers -    tag_projection_layer._module.weight\n",
      "2021-08-03 15:05:35,491 - INFO - allennlp.nn.initializers -    text_field_embedder.token_embedder_tokens.weight\n",
      "2021-08-03 15:05:35,492 - INFO - allennlp.modules.token_embedders.embedding - Loading a model trained before embedding extension was implemented; pass an explicit vocab namespace if you want to extend the vocabulary.\n",
      "2021-08-03 15:05:35,526 - INFO - allennlp.models.archival - removing temporary unarchived model dir at /tmp/tmpx5cz5g4h\n",
      "mkdir: cannot create directory ‘ocr_output’: File exists\n"
     ]
    },
    {
     "name": "stdout",
     "output_type": "stream",
     "text": [
      "Saving results to ocr_output...\n",
      "Loading ocr_output/7B - Kazakhstan - Mausoleum Khoja Ahmed Yasawi 20190429 Summary.txt from memory...\n",
      "Loading ocr_output/7B - China - Potala Palace  Lhasa 20191206 summary.txt from memory...\n",
      "./spo_csv_outputs/7B - Kazakhstan - Mausoleum Khoja Ahmed Yasawi 20190429 Summary_spo.csv\n",
      "./spo_csv_outputs/7B - China - Potala Palace  Lhasa 20191206 summary_spo.csv\n"
     ]
    }
   ],
   "source": [
    "# A PDF to CSV Example: request for WHS PDFs and create a csv file containing spo tags\n",
    "import os\n",
    "\n",
    "\n",
    "# instantiate a Semantic_Role_Labeling object, so that we can use Allen NLP Predictor\n",
    "# spo stands for subject predicate object/semantic role labeling\n",
    "spo = bcb_functions.Semantic_Role_Labeling()\n",
    "\n",
    "doc_list = bcb_functions.read_from_folder(pdf_folder)\n",
    "\n",
    "spo.export_csv(doc_list, file_names)"
   ]
  },
  {
   "cell_type": "markdown",
   "metadata": {},
   "source": [
    "# Change the list of PDFs to whatever you want"
   ]
  },
  {
   "cell_type": "code",
   "execution_count": 2,
   "metadata": {},
   "outputs": [],
   "source": [
    "url_list = ['https://whc.unesco.org/document/155117', 'https://whc.unesco.org/document/127112']"
   ]
  },
  {
   "cell_type": "code",
   "execution_count": 3,
   "metadata": {
    "colab": {
     "base_uri": "https://localhost:8080/",
     "height": 1000,
     "referenced_widgets": [
      "5d080352e54c496bbb198ef5b05829fb",
      "050cc3cd789f4b84967c2cb80e59ba7d",
      "b6bebb1f0e1f4d5fb40702b5d176b082",
      "c24b0d1a59de414d8334eb2edac085a6",
      "9a88227f3c0f47fca76325cb9c15b3d5",
      "7ac1de3410754f789ac14905b67f4efa",
      "745da2acf32c411f8b7705d22b2f5378",
      "bddc4bc85db543118b341a769a2484ce"
     ]
    },
    "id": "stmTQebGRR_x",
    "outputId": "f222a9f8-5ceb-4f4b-ae0b-4793820716e4"
   },
   "outputs": [
    {
     "name": "stderr",
     "output_type": "stream",
     "text": [
      "2021-08-03 15:20:39,828 - INFO - allennlp.common.plugins - Plugin allennlp_models available\n",
      "2021-08-03 15:20:39,962 - INFO - allennlp.common.file_utils - cache of https://storage.googleapis.com/allennlp-public-models/openie-model.2020.03.26.tar.gz is up-to-date\n",
      "2021-08-03 15:20:39,963 - INFO - allennlp.models.archival - loading archive file https://storage.googleapis.com/allennlp-public-models/openie-model.2020.03.26.tar.gz from cache at /home/cssuing/.allennlp/cache/60314a853eb0aaa774d176d878c62469d49872feb4f2bfd071a75c77f6d76707.1b91cc27e347f2df04ce771a304bee2b70a2c487626b67e277d44c593b868c25\n",
      "2021-08-03 15:20:39,964 - INFO - allennlp.models.archival - extracting archive file /home/cssuing/.allennlp/cache/60314a853eb0aaa774d176d878c62469d49872feb4f2bfd071a75c77f6d76707.1b91cc27e347f2df04ce771a304bee2b70a2c487626b67e277d44c593b868c25 to temp dir /tmp/tmpe1c0icxs\n",
      "2021-08-03 15:20:40,458 - INFO - allennlp.common.params - dataset_reader.type = srl\n",
      "2021-08-03 15:20:40,459 - INFO - allennlp.common.params - dataset_reader.max_instances = None\n",
      "2021-08-03 15:20:40,459 - INFO - allennlp.common.params - dataset_reader.manual_distributed_sharding = False\n",
      "2021-08-03 15:20:40,460 - INFO - allennlp.common.params - dataset_reader.manual_multiprocess_sharding = False\n",
      "2021-08-03 15:20:40,460 - INFO - allennlp.common.params - dataset_reader.token_indexers = None\n",
      "2021-08-03 15:20:40,461 - INFO - allennlp.common.params - dataset_reader.domain_identifier = None\n",
      "2021-08-03 15:20:40,461 - INFO - allennlp.common.params - dataset_reader.bert_model_name = None\n",
      "2021-08-03 15:20:40,462 - INFO - allennlp.common.params - dataset_reader.type = srl\n",
      "2021-08-03 15:20:40,462 - INFO - allennlp.common.params - dataset_reader.max_instances = None\n",
      "2021-08-03 15:20:40,463 - INFO - allennlp.common.params - dataset_reader.manual_distributed_sharding = False\n",
      "2021-08-03 15:20:40,463 - INFO - allennlp.common.params - dataset_reader.manual_multiprocess_sharding = False\n",
      "2021-08-03 15:20:40,463 - INFO - allennlp.common.params - dataset_reader.token_indexers = None\n",
      "2021-08-03 15:20:40,464 - INFO - allennlp.common.params - dataset_reader.domain_identifier = None\n",
      "2021-08-03 15:20:40,464 - INFO - allennlp.common.params - dataset_reader.bert_model_name = None\n",
      "2021-08-03 15:20:40,465 - INFO - allennlp.common.params - type = from_instances\n",
      "2021-08-03 15:20:40,465 - INFO - allennlp.data.vocabulary - Loading token dictionary from /tmp/tmpe1c0icxs/vocabulary.\n",
      "2021-08-03 15:20:40,519 - INFO - allennlp.common.params - model.type = srl\n",
      "2021-08-03 15:20:40,520 - INFO - allennlp.common.params - model.regularizer = None\n",
      "2021-08-03 15:20:40,520 - INFO - allennlp.common.params - model.text_field_embedder.type = basic\n",
      "2021-08-03 15:20:40,521 - INFO - allennlp.common.params - model.text_field_embedder.token_embedders.tokens.type = embedding\n",
      "2021-08-03 15:20:40,521 - INFO - allennlp.common.params - model.text_field_embedder.token_embedders.tokens.embedding_dim = 100\n",
      "2021-08-03 15:20:40,522 - INFO - allennlp.common.params - model.text_field_embedder.token_embedders.tokens.num_embeddings = None\n",
      "2021-08-03 15:20:40,522 - INFO - allennlp.common.params - model.text_field_embedder.token_embedders.tokens.projection_dim = None\n",
      "2021-08-03 15:20:40,522 - INFO - allennlp.common.params - model.text_field_embedder.token_embedders.tokens.weight = None\n",
      "2021-08-03 15:20:40,523 - INFO - allennlp.common.params - model.text_field_embedder.token_embedders.tokens.padding_index = None\n",
      "2021-08-03 15:20:40,523 - INFO - allennlp.common.params - model.text_field_embedder.token_embedders.tokens.trainable = True\n",
      "2021-08-03 15:20:40,524 - INFO - allennlp.common.params - model.text_field_embedder.token_embedders.tokens.max_norm = None\n",
      "2021-08-03 15:20:40,524 - INFO - allennlp.common.params - model.text_field_embedder.token_embedders.tokens.norm_type = 2.0\n",
      "2021-08-03 15:20:40,524 - INFO - allennlp.common.params - model.text_field_embedder.token_embedders.tokens.scale_grad_by_freq = False\n",
      "2021-08-03 15:20:40,525 - INFO - allennlp.common.params - model.text_field_embedder.token_embedders.tokens.sparse = False\n",
      "2021-08-03 15:20:40,525 - INFO - allennlp.common.params - model.text_field_embedder.token_embedders.tokens.vocab_namespace = tokens\n",
      "2021-08-03 15:20:40,525 - INFO - allennlp.common.params - model.text_field_embedder.token_embedders.tokens.pretrained_file = None\n",
      "2021-08-03 15:20:40,570 - INFO - allennlp.common.params - model.encoder.type = alternating_lstm\n",
      "2021-08-03 15:20:40,571 - INFO - allennlp.common.params - model.encoder.input_size = 200\n",
      "2021-08-03 15:20:40,571 - INFO - allennlp.common.params - model.encoder.hidden_size = 300\n",
      "2021-08-03 15:20:40,571 - INFO - allennlp.common.params - model.encoder.num_layers = 8\n",
      "2021-08-03 15:20:40,572 - INFO - allennlp.common.params - model.encoder.recurrent_dropout_probability = 0.1\n",
      "2021-08-03 15:20:40,572 - INFO - allennlp.common.params - model.encoder.use_highway = True\n",
      "2021-08-03 15:20:40,572 - INFO - allennlp.common.params - model.encoder.use_input_projection_bias = True\n",
      "2021-08-03 15:20:40,573 - INFO - allennlp.common.params - model.encoder.stateful = False\n",
      "2021-08-03 15:20:40,812 - INFO - allennlp.common.params - model.binary_feature_dim = 100\n",
      "2021-08-03 15:20:40,812 - INFO - allennlp.common.params - model.embedding_dropout = 0.0\n",
      "2021-08-03 15:20:40,813 - INFO - allennlp.common.params - model.initializer = <allennlp.nn.initializers.InitializerApplicator object at 0x7f7b5592a430>\n",
      "2021-08-03 15:20:40,813 - INFO - allennlp.common.params - model.label_smoothing = None\n",
      "2021-08-03 15:20:40,813 - INFO - allennlp.common.params - model.ignore_span_metric = False\n",
      "2021-08-03 15:20:40,814 - INFO - allennlp.common.params - model.srl_eval_path = /home/cssuing/giep_nlp/lib/python3.8/site-packages/allennlp_models/structured_prediction/tools/srl-eval.pl\n",
      "2021-08-03 15:20:40,815 - INFO - allennlp.nn.initializers - Initializing parameters\n",
      "2021-08-03 15:20:40,816 - INFO - allennlp.nn.initializers - Done initializing parameters; the following parameters are using their default initialization from their code\n",
      "2021-08-03 15:20:40,816 - INFO - allennlp.nn.initializers -    binary_feature_embedding.weight\n",
      "2021-08-03 15:20:40,816 - INFO - allennlp.nn.initializers -    encoder._module.layer_0.cell.input_linearity.bias\n",
      "2021-08-03 15:20:40,817 - INFO - allennlp.nn.initializers -    encoder._module.layer_0.cell.input_linearity.weight\n",
      "2021-08-03 15:20:40,817 - INFO - allennlp.nn.initializers -    encoder._module.layer_0.cell.state_linearity.bias\n",
      "2021-08-03 15:20:40,817 - INFO - allennlp.nn.initializers -    encoder._module.layer_0.cell.state_linearity.weight\n",
      "2021-08-03 15:20:40,818 - INFO - allennlp.nn.initializers -    encoder._module.layer_1.cell.input_linearity.bias\n",
      "2021-08-03 15:20:40,818 - INFO - allennlp.nn.initializers -    encoder._module.layer_1.cell.input_linearity.weight\n",
      "2021-08-03 15:20:40,818 - INFO - allennlp.nn.initializers -    encoder._module.layer_1.cell.state_linearity.bias\n",
      "2021-08-03 15:20:40,818 - INFO - allennlp.nn.initializers -    encoder._module.layer_1.cell.state_linearity.weight\n",
      "2021-08-03 15:20:40,819 - INFO - allennlp.nn.initializers -    encoder._module.layer_2.cell.input_linearity.bias\n",
      "2021-08-03 15:20:40,819 - INFO - allennlp.nn.initializers -    encoder._module.layer_2.cell.input_linearity.weight\n",
      "2021-08-03 15:20:40,819 - INFO - allennlp.nn.initializers -    encoder._module.layer_2.cell.state_linearity.bias\n",
      "2021-08-03 15:20:40,820 - INFO - allennlp.nn.initializers -    encoder._module.layer_2.cell.state_linearity.weight\n",
      "2021-08-03 15:20:40,820 - INFO - allennlp.nn.initializers -    encoder._module.layer_3.cell.input_linearity.bias\n",
      "2021-08-03 15:20:40,820 - INFO - allennlp.nn.initializers -    encoder._module.layer_3.cell.input_linearity.weight\n",
      "2021-08-03 15:20:40,820 - INFO - allennlp.nn.initializers -    encoder._module.layer_3.cell.state_linearity.bias\n",
      "2021-08-03 15:20:40,821 - INFO - allennlp.nn.initializers -    encoder._module.layer_3.cell.state_linearity.weight\n",
      "2021-08-03 15:20:40,821 - INFO - allennlp.nn.initializers -    encoder._module.layer_4.cell.input_linearity.bias\n",
      "2021-08-03 15:20:40,821 - INFO - allennlp.nn.initializers -    encoder._module.layer_4.cell.input_linearity.weight\n"
     ]
    },
    {
     "name": "stderr",
     "output_type": "stream",
     "text": [
      "2021-08-03 15:20:40,822 - INFO - allennlp.nn.initializers -    encoder._module.layer_4.cell.state_linearity.bias\n",
      "2021-08-03 15:20:40,822 - INFO - allennlp.nn.initializers -    encoder._module.layer_4.cell.state_linearity.weight\n",
      "2021-08-03 15:20:40,822 - INFO - allennlp.nn.initializers -    encoder._module.layer_5.cell.input_linearity.bias\n",
      "2021-08-03 15:20:40,823 - INFO - allennlp.nn.initializers -    encoder._module.layer_5.cell.input_linearity.weight\n",
      "2021-08-03 15:20:40,823 - INFO - allennlp.nn.initializers -    encoder._module.layer_5.cell.state_linearity.bias\n",
      "2021-08-03 15:20:40,823 - INFO - allennlp.nn.initializers -    encoder._module.layer_5.cell.state_linearity.weight\n",
      "2021-08-03 15:20:40,823 - INFO - allennlp.nn.initializers -    encoder._module.layer_6.cell.input_linearity.bias\n",
      "2021-08-03 15:20:40,824 - INFO - allennlp.nn.initializers -    encoder._module.layer_6.cell.input_linearity.weight\n",
      "2021-08-03 15:20:40,824 - INFO - allennlp.nn.initializers -    encoder._module.layer_6.cell.state_linearity.bias\n",
      "2021-08-03 15:20:40,824 - INFO - allennlp.nn.initializers -    encoder._module.layer_6.cell.state_linearity.weight\n",
      "2021-08-03 15:20:40,825 - INFO - allennlp.nn.initializers -    encoder._module.layer_7.cell.input_linearity.bias\n",
      "2021-08-03 15:20:40,825 - INFO - allennlp.nn.initializers -    encoder._module.layer_7.cell.input_linearity.weight\n",
      "2021-08-03 15:20:40,825 - INFO - allennlp.nn.initializers -    encoder._module.layer_7.cell.state_linearity.bias\n",
      "2021-08-03 15:20:40,825 - INFO - allennlp.nn.initializers -    encoder._module.layer_7.cell.state_linearity.weight\n",
      "2021-08-03 15:20:40,826 - INFO - allennlp.nn.initializers -    tag_projection_layer._module.bias\n",
      "2021-08-03 15:20:40,826 - INFO - allennlp.nn.initializers -    tag_projection_layer._module.weight\n",
      "2021-08-03 15:20:40,826 - INFO - allennlp.nn.initializers -    text_field_embedder.token_embedder_tokens.weight\n",
      "2021-08-03 15:20:40,830 - INFO - allennlp.modules.token_embedders.embedding - Loading a model trained before embedding extension was implemented; pass an explicit vocab namespace if you want to extend the vocabulary.\n",
      "2021-08-03 15:20:40,862 - INFO - allennlp.models.archival - removing temporary unarchived model dir at /tmp/tmpe1c0icxs\n",
      "mkdir: cannot create directory ‘ocr_output’: File exists\n"
     ]
    },
    {
     "name": "stdout",
     "output_type": "stream",
     "text": [
      "Saving results to ocr_output...\n",
      "Loading ocr_output/https-__whc.unesco.org_document_155117 from memory...\n",
      "Loading ocr_output/https-__whc.unesco.org_document_127112 from memory...\n",
      "./spo_csv_outputs/whc.unesco.org_document_155117_spo.csv\n",
      "./spo_csv_outputs/whc.unesco.org_document_127112_spo.csv\n"
     ]
    }
   ],
   "source": [
    "# A PDF to CSV Example: request for WHS PDFs and create a csv file containing spo tags\n",
    "import os\n",
    "\n",
    "\n",
    "# instantiate a Semantic_Role_Labeling object, so that we can use Allen NLP Predictor\n",
    "# spo stands for subject predicate object/semantic role labeling\n",
    "spo = bcb_functions.Semantic_Role_Labeling()\n",
    "\n",
    "doc_list = bcb_functions.read_from_urls(url_list)\n",
    "\n",
    "spo.export_csv(doc_list, url_list)\n"
   ]
  },
  {
   "cell_type": "markdown",
   "metadata": {},
   "source": [
    "# The outputs will be stored in your server's local directory named \"spo_csv_outputs\""
   ]
  },
  {
   "cell_type": "code",
   "execution_count": null,
   "metadata": {},
   "outputs": [],
   "source": []
  }
 ],
 "metadata": {
  "colab": {
   "collapsed_sections": [],
   "name": "PDF_to_SPO.ipynb",
   "provenance": [],
   "toc_visible": true
  },
  "kernelspec": {
   "display_name": "Python 3 (ipykernel)",
   "language": "python",
   "name": "python3"
  },
  "language_info": {
   "codemirror_mode": {
    "name": "ipython",
    "version": 3
   },
   "file_extension": ".py",
   "mimetype": "text/x-python",
   "name": "python",
   "nbconvert_exporter": "python",
   "pygments_lexer": "ipython3",
   "version": "3.8.8"
  },
  "widgets": {
   "application/vnd.jupyter.widget-state+json": {
    "050cc3cd789f4b84967c2cb80e59ba7d": {
     "model_module": "@jupyter-widgets/base",
     "model_name": "LayoutModel",
     "state": {
      "_model_module": "@jupyter-widgets/base",
      "_model_module_version": "1.2.0",
      "_model_name": "LayoutModel",
      "_view_count": null,
      "_view_module": "@jupyter-widgets/base",
      "_view_module_version": "1.2.0",
      "_view_name": "LayoutView",
      "align_content": null,
      "align_items": null,
      "align_self": null,
      "border": null,
      "bottom": null,
      "display": null,
      "flex": null,
      "flex_flow": null,
      "grid_area": null,
      "grid_auto_columns": null,
      "grid_auto_flow": null,
      "grid_auto_rows": null,
      "grid_column": null,
      "grid_gap": null,
      "grid_row": null,
      "grid_template_areas": null,
      "grid_template_columns": null,
      "grid_template_rows": null,
      "height": null,
      "justify_content": null,
      "justify_items": null,
      "left": null,
      "margin": null,
      "max_height": null,
      "max_width": null,
      "min_height": null,
      "min_width": null,
      "object_fit": null,
      "object_position": null,
      "order": null,
      "overflow": null,
      "overflow_x": null,
      "overflow_y": null,
      "padding": null,
      "right": null,
      "top": null,
      "visibility": null,
      "width": null
     }
    },
    "5d080352e54c496bbb198ef5b05829fb": {
     "model_module": "@jupyter-widgets/controls",
     "model_name": "HBoxModel",
     "state": {
      "_dom_classes": [],
      "_model_module": "@jupyter-widgets/controls",
      "_model_module_version": "1.5.0",
      "_model_name": "HBoxModel",
      "_view_count": null,
      "_view_module": "@jupyter-widgets/controls",
      "_view_module_version": "1.5.0",
      "_view_name": "HBoxView",
      "box_style": "",
      "children": [
       "IPY_MODEL_b6bebb1f0e1f4d5fb40702b5d176b082",
       "IPY_MODEL_c24b0d1a59de414d8334eb2edac085a6"
      ],
      "layout": "IPY_MODEL_050cc3cd789f4b84967c2cb80e59ba7d"
     }
    },
    "745da2acf32c411f8b7705d22b2f5378": {
     "model_module": "@jupyter-widgets/controls",
     "model_name": "DescriptionStyleModel",
     "state": {
      "_model_module": "@jupyter-widgets/controls",
      "_model_module_version": "1.5.0",
      "_model_name": "DescriptionStyleModel",
      "_view_count": null,
      "_view_module": "@jupyter-widgets/base",
      "_view_module_version": "1.2.0",
      "_view_name": "StyleView",
      "description_width": ""
     }
    },
    "7ac1de3410754f789ac14905b67f4efa": {
     "model_module": "@jupyter-widgets/base",
     "model_name": "LayoutModel",
     "state": {
      "_model_module": "@jupyter-widgets/base",
      "_model_module_version": "1.2.0",
      "_model_name": "LayoutModel",
      "_view_count": null,
      "_view_module": "@jupyter-widgets/base",
      "_view_module_version": "1.2.0",
      "_view_name": "LayoutView",
      "align_content": null,
      "align_items": null,
      "align_self": null,
      "border": null,
      "bottom": null,
      "display": null,
      "flex": null,
      "flex_flow": null,
      "grid_area": null,
      "grid_auto_columns": null,
      "grid_auto_flow": null,
      "grid_auto_rows": null,
      "grid_column": null,
      "grid_gap": null,
      "grid_row": null,
      "grid_template_areas": null,
      "grid_template_columns": null,
      "grid_template_rows": null,
      "height": null,
      "justify_content": null,
      "justify_items": null,
      "left": null,
      "margin": null,
      "max_height": null,
      "max_width": null,
      "min_height": null,
      "min_width": null,
      "object_fit": null,
      "object_position": null,
      "order": null,
      "overflow": null,
      "overflow_x": null,
      "overflow_y": null,
      "padding": null,
      "right": null,
      "top": null,
      "visibility": null,
      "width": null
     }
    },
    "9a88227f3c0f47fca76325cb9c15b3d5": {
     "model_module": "@jupyter-widgets/controls",
     "model_name": "ProgressStyleModel",
     "state": {
      "_model_module": "@jupyter-widgets/controls",
      "_model_module_version": "1.5.0",
      "_model_name": "ProgressStyleModel",
      "_view_count": null,
      "_view_module": "@jupyter-widgets/base",
      "_view_module_version": "1.2.0",
      "_view_name": "StyleView",
      "bar_color": null,
      "description_width": "initial"
     }
    },
    "b6bebb1f0e1f4d5fb40702b5d176b082": {
     "model_module": "@jupyter-widgets/controls",
     "model_name": "FloatProgressModel",
     "state": {
      "_dom_classes": [],
      "_model_module": "@jupyter-widgets/controls",
      "_model_module_version": "1.5.0",
      "_model_name": "FloatProgressModel",
      "_view_count": null,
      "_view_module": "@jupyter-widgets/controls",
      "_view_module_version": "1.5.0",
      "_view_name": "ProgressView",
      "bar_style": "success",
      "description": "100%",
      "description_tooltip": null,
      "layout": "IPY_MODEL_7ac1de3410754f789ac14905b67f4efa",
      "max": 6,
      "min": 0,
      "orientation": "horizontal",
      "style": "IPY_MODEL_9a88227f3c0f47fca76325cb9c15b3d5",
      "value": 6
     }
    },
    "bddc4bc85db543118b341a769a2484ce": {
     "model_module": "@jupyter-widgets/base",
     "model_name": "LayoutModel",
     "state": {
      "_model_module": "@jupyter-widgets/base",
      "_model_module_version": "1.2.0",
      "_model_name": "LayoutModel",
      "_view_count": null,
      "_view_module": "@jupyter-widgets/base",
      "_view_module_version": "1.2.0",
      "_view_name": "LayoutView",
      "align_content": null,
      "align_items": null,
      "align_self": null,
      "border": null,
      "bottom": null,
      "display": null,
      "flex": null,
      "flex_flow": null,
      "grid_area": null,
      "grid_auto_columns": null,
      "grid_auto_flow": null,
      "grid_auto_rows": null,
      "grid_column": null,
      "grid_gap": null,
      "grid_row": null,
      "grid_template_areas": null,
      "grid_template_columns": null,
      "grid_template_rows": null,
      "height": null,
      "justify_content": null,
      "justify_items": null,
      "left": null,
      "margin": null,
      "max_height": null,
      "max_width": null,
      "min_height": null,
      "min_width": null,
      "object_fit": null,
      "object_position": null,
      "order": null,
      "overflow": null,
      "overflow_x": null,
      "overflow_y": null,
      "padding": null,
      "right": null,
      "top": null,
      "visibility": null,
      "width": null
     }
    },
    "c24b0d1a59de414d8334eb2edac085a6": {
     "model_module": "@jupyter-widgets/controls",
     "model_name": "HTMLModel",
     "state": {
      "_dom_classes": [],
      "_model_module": "@jupyter-widgets/controls",
      "_model_module_version": "1.5.0",
      "_model_name": "HTMLModel",
      "_view_count": null,
      "_view_module": "@jupyter-widgets/controls",
      "_view_module_version": "1.5.0",
      "_view_name": "HTMLView",
      "description": "",
      "description_tooltip": null,
      "layout": "IPY_MODEL_bddc4bc85db543118b341a769a2484ce",
      "placeholder": "​",
      "style": "IPY_MODEL_745da2acf32c411f8b7705d22b2f5378",
      "value": " 6/6 [00:14&lt;00:00,  2.49s/it]"
     }
    }
   }
  }
 },
 "nbformat": 4,
 "nbformat_minor": 1
}
